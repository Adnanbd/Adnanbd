{
  "nbformat": 4,
  "nbformat_minor": 0,
  "metadata": {
    "colab": {
      "name": "Group 4 - ML Algo Implementation.ipynb",
      "provenance": [],
      "collapsed_sections": [],
      "authorship_tag": "ABX9TyPPfv5CzDF6ONmqCX3743zf",
      "include_colab_link": true
    },
    "kernelspec": {
      "name": "python3",
      "display_name": "Python 3"
    },
    "language_info": {
      "name": "python"
    },
    "accelerator": "GPU"
  },
  "cells": [
    {
      "cell_type": "markdown",
      "metadata": {
        "id": "view-in-github",
        "colab_type": "text"
      },
      "source": [
        "<a href=\"https://colab.research.google.com/github/Adnanbd/Adnanbd/blob/main/Group_4_ML_Algo_Implementation_Without_10_Fold.ipynb\" target=\"_parent\"><img src=\"https://colab.research.google.com/assets/colab-badge.svg\" alt=\"Open In Colab\"/></a>"
      ]
    },
    {
      "cell_type": "code",
      "metadata": {
        "id": "2ePEdfwpngtB",
        "colab": {
          "base_uri": "https://localhost:8080/"
        },
        "outputId": "f9c5955b-bf3b-4862-8ccd-15ff63aee775"
      },
      "source": [
        "from google.colab import drive\n",
        "\n",
        "drive.mount('/content/gdrive')"
      ],
      "execution_count": 1,
      "outputs": [
        {
          "output_type": "stream",
          "text": [
            "Mounted at /content/gdrive\n"
          ],
          "name": "stdout"
        }
      ]
    },
    {
      "cell_type": "code",
      "metadata": {
        "id": "UcQCgzArF1oR"
      },
      "source": [
        "#temp = !unzip '/content/gdrive/MyDrive/UIU/ML Theory/DatasetML.zip'\n",
        "#!unzip -uq \"/content/gdrive/MyDrive/UIU/ML Theory/DatasetML.zip\" -d \"/content/gdrive/MyDrive/UIU/ML Theory/dataset\""
      ],
      "execution_count": null,
      "outputs": []
    },
    {
      "cell_type": "code",
      "metadata": {
        "id": "8lekKbEJ1E4J"
      },
      "source": [
        "import tensorflow as tf\n",
        "\n",
        "from tensorflow.keras import datasets, layers, models\n",
        "import matplotlib.pyplot as plt\n",
        "import numpy as np"
      ],
      "execution_count": 2,
      "outputs": []
    },
    {
      "cell_type": "code",
      "metadata": {
        "colab": {
          "base_uri": "https://localhost:8080/"
        },
        "id": "NNeNVyWaQd4d",
        "outputId": "40e6d74d-ce9c-4cce-cf3e-9cb66df8e649"
      },
      "source": [
        "#stage 1 DAtaset 17 Classes\n",
        "batch_size = 31\n",
        "img_height = 224\n",
        "img_width = 224\n",
        "\n",
        "\n",
        "data_dir = '/content/gdrive/MyDrive/UIU/ML Theory/dataset/Dataset/SYMPTOM_Resized'\n",
        "\n",
        "train_s1 = tf.keras.preprocessing.image_dataset_from_directory(\n",
        "  data_dir,\n",
        "  subset=\"training\",\n",
        "  validation_split=0.2,\n",
        "  seed=123,\n",
        "  image_size=(img_height, img_width),\n",
        "  batch_size=batch_size,\n",
        "  label_mode='categorical'\n",
        "  )\n",
        "\n",
        "val_s1 = tf.keras.preprocessing.image_dataset_from_directory(\n",
        "  data_dir,\n",
        "  validation_split=0.2,\n",
        "  subset=\"validation\",\n",
        "  seed=123,\n",
        "  image_size=(img_height, img_width),\n",
        "  batch_size=batch_size,\n",
        "  label_mode='categorical'\n",
        "  )\n",
        "print(type(train_s1))\n",
        "\n",
        "#np_array = np.array(list(train_s1.as_numpy_iterator()))\n",
        "\n",
        "#np_array = np.asarray(list(train_s1.as_numpy_iterator()), dtype=np.float32)\n",
        "\n",
        "#print(list(train_s1.as_numpy_iterator()))\n",
        "\n",
        "#predict_ds = tf.data.Dataset.from_tensor_slices(train_s1).batch(31)\n",
        "\n",
        "#print(type(predict_ds))\n",
        "\n"
      ],
      "execution_count": 5,
      "outputs": [
        {
          "output_type": "stream",
          "text": [
            "Found 1426 files belonging to 17 classes.\n",
            "Using 1141 files for training.\n",
            "Found 1426 files belonging to 17 classes.\n",
            "Using 285 files for validation.\n",
            "<class 'tensorflow.python.data.ops.dataset_ops.BatchDataset'>\n"
          ],
          "name": "stdout"
        }
      ]
    },
    {
      "cell_type": "code",
      "metadata": {
        "colab": {
          "base_uri": "https://localhost:8080/"
        },
        "id": "EPy3kIoG-WdS",
        "outputId": "d2e8c723-5f06-42e6-d61b-85b5a61d7ed3"
      },
      "source": [
        "#stage 2 DAtaset 9 classes\n",
        "batch_size = 32\n",
        "img_height = 224\n",
        "img_width = 224\n",
        "\n",
        "\n",
        "data_dir = '/content/gdrive/MyDrive/UIU/ML Theory/dataset/Dataset/Resized_Original_Data'\n",
        "\n",
        "train_ds = tf.keras.preprocessing.image_dataset_from_directory(\n",
        "  data_dir,\n",
        "  validation_split=0.2,\n",
        "  subset=\"training\",\n",
        "  seed=123,\n",
        "  image_size=(img_height, img_width),\n",
        "  batch_size=batch_size,\n",
        "  label_mode='categorical'\n",
        "  )\n",
        "\n",
        "val_ds = tf.keras.preprocessing.image_dataset_from_directory(\n",
        "  data_dir,\n",
        "  validation_split=0.2,\n",
        "  subset=\"validation\",\n",
        "  seed=123,\n",
        "  image_size=(img_height, img_width),\n",
        "  batch_size=batch_size,\n",
        "  label_mode='categorical'\n",
        "  )"
      ],
      "execution_count": 6,
      "outputs": [
        {
          "output_type": "stream",
          "text": [
            "Found 1426 files belonging to 9 classes.\n",
            "Using 1141 files for training.\n",
            "Found 1426 files belonging to 9 classes.\n",
            "Using 285 files for validation.\n"
          ],
          "name": "stdout"
        }
      ]
    },
    {
      "cell_type": "code",
      "metadata": {
        "id": "QAgVKZ375gQ9"
      },
      "source": [
        "\n"
      ],
      "execution_count": null,
      "outputs": []
    },
    {
      "cell_type": "code",
      "metadata": {
        "colab": {
          "base_uri": "https://localhost:8080/"
        },
        "id": "gLlIRVWtQEvb",
        "outputId": "d59252fc-7a41-4380-b9c6-c4e883d492a4"
      },
      "source": [
        "# stage 1\n",
        "model = models.Sequential()\n",
        "\n",
        "model.add(layers.Conv2D(16, (3, 3), activation='relu', input_shape=(224, 224, 3)))\n",
        "model.add(layers.BatchNormalization())\n",
        "model.add(layers.MaxPooling2D())\n",
        "\n",
        "model.add(layers.Conv2D(24, (3, 3), activation='relu'))\n",
        "model.add(layers.BatchNormalization())\n",
        "model.add(layers.MaxPooling2D())\n",
        "\n",
        "model.add(layers.Conv2D(32, (3, 3), activation='relu'))\n",
        "model.add(layers.BatchNormalization())\n",
        "model.add(layers.MaxPooling2D())\n",
        "\n",
        "model.add(layers.Conv2D(48, (3, 3), activation='relu'))\n",
        "model.add(layers.BatchNormalization())\n",
        "model.add(layers.MaxPooling2D())\n",
        "\n",
        "model.add(layers.Conv2D(64, (3, 3), activation='relu'))\n",
        "model.add(layers.BatchNormalization())\n",
        "model.add(layers.MaxPooling2D())\n",
        "\n",
        "model.add(layers.Flatten())\n",
        "\n",
        "model.add(layers.Dense(128, activation='relu'))\n",
        "model.add(layers.Dropout(rate=0.3))\n",
        "model.add(layers.Dense(128, activation='relu'))\n",
        "\n",
        "model.add(layers.Dense(17, activation='softmax'))\n",
        "\n",
        "model.compile(\n",
        "  optimizer='adam',\n",
        "  loss=tf.losses.CategoricalCrossentropy(),\n",
        "  metrics=['accuracy'])\n",
        "\n",
        "\n",
        "\n",
        "\n",
        "model.fit(\n",
        "  train_s1,\n",
        "  validation_data=val_s1,\n",
        "  epochs=20,\n",
        ")\n",
        "\n"
      ],
      "execution_count": 12,
      "outputs": [
        {
          "output_type": "stream",
          "text": [
            "Epoch 1/20\n",
            "37/37 [==============================] - 5s 97ms/step - loss: 2.6299 - accuracy: 0.2550 - val_loss: 2.7136 - val_accuracy: 0.1614\n",
            "Epoch 2/20\n",
            "37/37 [==============================] - 4s 91ms/step - loss: 1.7453 - accuracy: 0.4610 - val_loss: 2.4409 - val_accuracy: 0.2421\n",
            "Epoch 3/20\n",
            "37/37 [==============================] - 4s 86ms/step - loss: 1.2903 - accuracy: 0.5942 - val_loss: 1.9596 - val_accuracy: 0.3789\n",
            "Epoch 4/20\n",
            "37/37 [==============================] - 3s 85ms/step - loss: 1.0107 - accuracy: 0.6915 - val_loss: 1.5113 - val_accuracy: 0.5860\n",
            "Epoch 5/20\n",
            "37/37 [==============================] - 4s 85ms/step - loss: 0.7590 - accuracy: 0.7555 - val_loss: 1.2088 - val_accuracy: 0.6351\n",
            "Epoch 6/20\n",
            "37/37 [==============================] - 4s 91ms/step - loss: 0.5620 - accuracy: 0.8291 - val_loss: 1.1260 - val_accuracy: 0.6526\n",
            "Epoch 7/20\n",
            "37/37 [==============================] - 4s 91ms/step - loss: 0.4579 - accuracy: 0.8589 - val_loss: 0.8868 - val_accuracy: 0.7193\n",
            "Epoch 8/20\n",
            "37/37 [==============================] - 4s 85ms/step - loss: 0.3450 - accuracy: 0.8852 - val_loss: 0.9525 - val_accuracy: 0.6877\n",
            "Epoch 9/20\n",
            "37/37 [==============================] - 4s 94ms/step - loss: 0.3278 - accuracy: 0.8931 - val_loss: 1.0048 - val_accuracy: 0.7298\n",
            "Epoch 10/20\n",
            "37/37 [==============================] - 4s 92ms/step - loss: 0.2469 - accuracy: 0.9290 - val_loss: 1.2108 - val_accuracy: 0.7193\n",
            "Epoch 11/20\n",
            "37/37 [==============================] - 3s 85ms/step - loss: 0.2150 - accuracy: 0.9316 - val_loss: 0.9963 - val_accuracy: 0.7404\n",
            "Epoch 12/20\n",
            "37/37 [==============================] - 3s 83ms/step - loss: 0.2140 - accuracy: 0.9378 - val_loss: 1.1599 - val_accuracy: 0.6912\n",
            "Epoch 13/20\n",
            "37/37 [==============================] - 4s 93ms/step - loss: 0.2165 - accuracy: 0.9246 - val_loss: 1.0911 - val_accuracy: 0.7088\n",
            "Epoch 14/20\n",
            "37/37 [==============================] - 4s 93ms/step - loss: 0.1507 - accuracy: 0.9544 - val_loss: 0.8496 - val_accuracy: 0.7789\n",
            "Epoch 15/20\n",
            "37/37 [==============================] - 4s 87ms/step - loss: 0.1092 - accuracy: 0.9676 - val_loss: 1.0937 - val_accuracy: 0.7193\n",
            "Epoch 16/20\n",
            "37/37 [==============================] - 4s 93ms/step - loss: 0.0986 - accuracy: 0.9720 - val_loss: 1.1713 - val_accuracy: 0.7579\n",
            "Epoch 17/20\n",
            "37/37 [==============================] - 3s 84ms/step - loss: 0.0756 - accuracy: 0.9790 - val_loss: 0.9371 - val_accuracy: 0.7789\n",
            "Epoch 18/20\n",
            "37/37 [==============================] - 4s 93ms/step - loss: 0.0708 - accuracy: 0.9781 - val_loss: 1.8143 - val_accuracy: 0.6000\n",
            "Epoch 19/20\n",
            "37/37 [==============================] - 4s 94ms/step - loss: 0.0919 - accuracy: 0.9702 - val_loss: 1.0943 - val_accuracy: 0.7439\n",
            "Epoch 20/20\n",
            "37/37 [==============================] - 4s 94ms/step - loss: 0.1284 - accuracy: 0.9658 - val_loss: 1.2399 - val_accuracy: 0.7509\n"
          ],
          "name": "stdout"
        },
        {
          "output_type": "execute_result",
          "data": {
            "text/plain": [
              "<tensorflow.python.keras.callbacks.History at 0x7fc6fe070990>"
            ]
          },
          "metadata": {
            "tags": []
          },
          "execution_count": 12
        }
      ]
    },
    {
      "cell_type": "code",
      "metadata": {
        "colab": {
          "base_uri": "https://localhost:8080/"
        },
        "id": "Lk7Kwj8ZWQNw",
        "outputId": "e86d1679-b699-40de-9db1-c7347c2692fd"
      },
      "source": [
        "model.summary()"
      ],
      "execution_count": 8,
      "outputs": [
        {
          "output_type": "stream",
          "text": [
            "Model: \"sequential\"\n",
            "_________________________________________________________________\n",
            "Layer (type)                 Output Shape              Param #   \n",
            "=================================================================\n",
            "conv2d (Conv2D)              (None, 222, 222, 16)      448       \n",
            "_________________________________________________________________\n",
            "batch_normalization (BatchNo (None, 222, 222, 16)      64        \n",
            "_________________________________________________________________\n",
            "max_pooling2d (MaxPooling2D) (None, 111, 111, 16)      0         \n",
            "_________________________________________________________________\n",
            "conv2d_1 (Conv2D)            (None, 109, 109, 24)      3480      \n",
            "_________________________________________________________________\n",
            "batch_normalization_1 (Batch (None, 109, 109, 24)      96        \n",
            "_________________________________________________________________\n",
            "max_pooling2d_1 (MaxPooling2 (None, 54, 54, 24)        0         \n",
            "_________________________________________________________________\n",
            "conv2d_2 (Conv2D)            (None, 52, 52, 32)        6944      \n",
            "_________________________________________________________________\n",
            "batch_normalization_2 (Batch (None, 52, 52, 32)        128       \n",
            "_________________________________________________________________\n",
            "max_pooling2d_2 (MaxPooling2 (None, 26, 26, 32)        0         \n",
            "_________________________________________________________________\n",
            "conv2d_3 (Conv2D)            (None, 24, 24, 48)        13872     \n",
            "_________________________________________________________________\n",
            "batch_normalization_3 (Batch (None, 24, 24, 48)        192       \n",
            "_________________________________________________________________\n",
            "max_pooling2d_3 (MaxPooling2 (None, 12, 12, 48)        0         \n",
            "_________________________________________________________________\n",
            "conv2d_4 (Conv2D)            (None, 10, 10, 64)        27712     \n",
            "_________________________________________________________________\n",
            "batch_normalization_4 (Batch (None, 10, 10, 64)        256       \n",
            "_________________________________________________________________\n",
            "max_pooling2d_4 (MaxPooling2 (None, 5, 5, 64)          0         \n",
            "_________________________________________________________________\n",
            "flatten (Flatten)            (None, 1600)              0         \n",
            "_________________________________________________________________\n",
            "dense (Dense)                (None, 128)               204928    \n",
            "_________________________________________________________________\n",
            "dropout (Dropout)            (None, 128)               0         \n",
            "_________________________________________________________________\n",
            "dense_1 (Dense)              (None, 128)               16512     \n",
            "_________________________________________________________________\n",
            "dense_2 (Dense)              (None, 17)                2193      \n",
            "=================================================================\n",
            "Total params: 276,825\n",
            "Trainable params: 276,457\n",
            "Non-trainable params: 368\n",
            "_________________________________________________________________\n"
          ],
          "name": "stdout"
        }
      ]
    },
    {
      "cell_type": "code",
      "metadata": {
        "colab": {
          "base_uri": "https://localhost:8080/"
        },
        "id": "HSxcw4DzZ0HE",
        "outputId": "b2b56511-e460-4b79-9c3b-e088799799d6"
      },
      "source": [
        "model2 = models.Sequential()\n",
        "for layer in model.layers:\n",
        "  if layer.name == 'flatten':\n",
        "    break\n",
        "  model2.add(layer)\n",
        "\n",
        "model2.add(layers.Flatten())\n",
        "\n",
        "model2.add(layers.Dense(128, activation='relu'))\n",
        "model2.add(layers.Dropout(rate=0.3))\n",
        "model2.add(layers.Dense(128, activation='relu'))\n",
        "\n",
        "model2.add(layers.Dense(9, activation='softmax'))\n",
        "\n",
        "\n",
        "model2.summary()\n",
        "\n",
        "model2.compile(\n",
        "  optimizer='adam',\n",
        "  loss=tf.losses.CategoricalCrossentropy(),\n",
        "  metrics=['accuracy'])"
      ],
      "execution_count": 13,
      "outputs": [
        {
          "output_type": "stream",
          "text": [
            "Model: \"sequential_4\"\n",
            "_________________________________________________________________\n",
            "Layer (type)                 Output Shape              Param #   \n",
            "=================================================================\n",
            "conv2d_5 (Conv2D)            (None, 222, 222, 16)      448       \n",
            "_________________________________________________________________\n",
            "batch_normalization_5 (Batch (None, 222, 222, 16)      64        \n",
            "_________________________________________________________________\n",
            "max_pooling2d_5 (MaxPooling2 (None, 111, 111, 16)      0         \n",
            "_________________________________________________________________\n",
            "conv2d_6 (Conv2D)            (None, 109, 109, 24)      3480      \n",
            "_________________________________________________________________\n",
            "batch_normalization_6 (Batch (None, 109, 109, 24)      96        \n",
            "_________________________________________________________________\n",
            "max_pooling2d_6 (MaxPooling2 (None, 54, 54, 24)        0         \n",
            "_________________________________________________________________\n",
            "conv2d_7 (Conv2D)            (None, 52, 52, 32)        6944      \n",
            "_________________________________________________________________\n",
            "batch_normalization_7 (Batch (None, 52, 52, 32)        128       \n",
            "_________________________________________________________________\n",
            "max_pooling2d_7 (MaxPooling2 (None, 26, 26, 32)        0         \n",
            "_________________________________________________________________\n",
            "conv2d_8 (Conv2D)            (None, 24, 24, 48)        13872     \n",
            "_________________________________________________________________\n",
            "batch_normalization_8 (Batch (None, 24, 24, 48)        192       \n",
            "_________________________________________________________________\n",
            "max_pooling2d_8 (MaxPooling2 (None, 12, 12, 48)        0         \n",
            "_________________________________________________________________\n",
            "conv2d_9 (Conv2D)            (None, 10, 10, 64)        27712     \n",
            "_________________________________________________________________\n",
            "batch_normalization_9 (Batch (None, 10, 10, 64)        256       \n",
            "_________________________________________________________________\n",
            "max_pooling2d_9 (MaxPooling2 (None, 5, 5, 64)          0         \n",
            "_________________________________________________________________\n",
            "flatten_3 (Flatten)          (None, 1600)              0         \n",
            "_________________________________________________________________\n",
            "dense_9 (Dense)              (None, 128)               204928    \n",
            "_________________________________________________________________\n",
            "dropout_3 (Dropout)          (None, 128)               0         \n",
            "_________________________________________________________________\n",
            "dense_10 (Dense)             (None, 128)               16512     \n",
            "_________________________________________________________________\n",
            "dense_11 (Dense)             (None, 17)                2193      \n",
            "_________________________________________________________________\n",
            "flatten_4 (Flatten)          (None, 17)                0         \n",
            "_________________________________________________________________\n",
            "dense_12 (Dense)             (None, 128)               2304      \n",
            "_________________________________________________________________\n",
            "dropout_4 (Dropout)          (None, 128)               0         \n",
            "_________________________________________________________________\n",
            "dense_13 (Dense)             (None, 128)               16512     \n",
            "_________________________________________________________________\n",
            "dense_14 (Dense)             (None, 9)                 1161      \n",
            "=================================================================\n",
            "Total params: 296,802\n",
            "Trainable params: 296,434\n",
            "Non-trainable params: 368\n",
            "_________________________________________________________________\n"
          ],
          "name": "stdout"
        }
      ]
    },
    {
      "cell_type": "code",
      "metadata": {
        "colab": {
          "base_uri": "https://localhost:8080/"
        },
        "id": "CWHOIjX4aqJu",
        "outputId": "b4c54f95-01bf-44d0-f6bb-d9cb514567fc"
      },
      "source": [
        "model2.fit(\n",
        "  train_ds,\n",
        "  validation_data=val_ds,\n",
        "  epochs=20\n",
        ")"
      ],
      "execution_count": 14,
      "outputs": [
        {
          "output_type": "stream",
          "text": [
            "Epoch 1/20\n",
            "36/36 [==============================] - 5s 99ms/step - loss: 1.8641 - accuracy: 0.5337 - val_loss: 1.6054 - val_accuracy: 0.5860\n",
            "Epoch 2/20\n",
            "36/36 [==============================] - 3s 87ms/step - loss: 1.1143 - accuracy: 0.7511 - val_loss: 1.0352 - val_accuracy: 0.7298\n",
            "Epoch 3/20\n",
            "36/36 [==============================] - 4s 96ms/step - loss: 0.7375 - accuracy: 0.8405 - val_loss: 1.7279 - val_accuracy: 0.5439\n",
            "Epoch 4/20\n",
            "36/36 [==============================] - 4s 88ms/step - loss: 0.8123 - accuracy: 0.8028 - val_loss: 1.9748 - val_accuracy: 0.4667\n",
            "Epoch 5/20\n",
            "36/36 [==============================] - 4s 89ms/step - loss: 0.5276 - accuracy: 0.8861 - val_loss: 2.0246 - val_accuracy: 0.5053\n",
            "Epoch 6/20\n",
            "36/36 [==============================] - 4s 96ms/step - loss: 0.5463 - accuracy: 0.8685 - val_loss: 1.3060 - val_accuracy: 0.6491\n",
            "Epoch 7/20\n",
            "36/36 [==============================] - 4s 97ms/step - loss: 0.5896 - accuracy: 0.8563 - val_loss: 2.1951 - val_accuracy: 0.4421\n",
            "Epoch 8/20\n",
            "36/36 [==============================] - 3s 87ms/step - loss: 0.5049 - accuracy: 0.8834 - val_loss: 0.8590 - val_accuracy: 0.7860\n",
            "Epoch 9/20\n",
            "36/36 [==============================] - 4s 98ms/step - loss: 0.4156 - accuracy: 0.9045 - val_loss: 1.4147 - val_accuracy: 0.6667\n",
            "Epoch 10/20\n",
            "36/36 [==============================] - 4s 89ms/step - loss: 0.4475 - accuracy: 0.8966 - val_loss: 1.0651 - val_accuracy: 0.7404\n",
            "Epoch 11/20\n",
            "36/36 [==============================] - 4s 95ms/step - loss: 0.3921 - accuracy: 0.9106 - val_loss: 0.9318 - val_accuracy: 0.7719\n",
            "Epoch 12/20\n",
            "36/36 [==============================] - 4s 95ms/step - loss: 0.4630 - accuracy: 0.8975 - val_loss: 1.1580 - val_accuracy: 0.7193\n",
            "Epoch 13/20\n",
            "36/36 [==============================] - 4s 88ms/step - loss: 0.3749 - accuracy: 0.9167 - val_loss: 1.1444 - val_accuracy: 0.7053\n",
            "Epoch 14/20\n",
            "36/36 [==============================] - 3s 87ms/step - loss: 0.3505 - accuracy: 0.9220 - val_loss: 0.8549 - val_accuracy: 0.7930\n",
            "Epoch 15/20\n",
            "36/36 [==============================] - 3s 87ms/step - loss: 0.3018 - accuracy: 0.9316 - val_loss: 1.2370 - val_accuracy: 0.7193\n",
            "Epoch 16/20\n",
            "36/36 [==============================] - 4s 96ms/step - loss: 0.3528 - accuracy: 0.9264 - val_loss: 0.8765 - val_accuracy: 0.8105\n",
            "Epoch 17/20\n",
            "36/36 [==============================] - 4s 95ms/step - loss: 0.2565 - accuracy: 0.9483 - val_loss: 1.4263 - val_accuracy: 0.6807\n",
            "Epoch 18/20\n",
            "36/36 [==============================] - 4s 95ms/step - loss: 0.2749 - accuracy: 0.9404 - val_loss: 0.8989 - val_accuracy: 0.7860\n",
            "Epoch 19/20\n",
            "36/36 [==============================] - 4s 95ms/step - loss: 0.3360 - accuracy: 0.9299 - val_loss: 1.9151 - val_accuracy: 0.6211\n",
            "Epoch 20/20\n",
            "36/36 [==============================] - 4s 89ms/step - loss: 0.3520 - accuracy: 0.9238 - val_loss: 0.7023 - val_accuracy: 0.8456\n"
          ],
          "name": "stdout"
        },
        {
          "output_type": "execute_result",
          "data": {
            "text/plain": [
              "<tensorflow.python.keras.callbacks.History at 0x7fc6fe314590>"
            ]
          },
          "metadata": {
            "tags": []
          },
          "execution_count": 14
        }
      ]
    }
  ]
}